{
 "cells": [
  {
   "cell_type": "code",
   "execution_count": 1,
   "metadata": {},
   "outputs": [],
   "source": [
    "import numpy as np"
   ]
  },
  {
   "cell_type": "code",
   "execution_count": 5,
   "metadata": {},
   "outputs": [],
   "source": [
    "employee_info = [('name','S10') ,('salary','f8') ,('age','i8')   ]"
   ]
  },
  {
   "cell_type": "code",
   "execution_count": 6,
   "metadata": {},
   "outputs": [
    {
     "data": {
      "text/plain": [
       "[('name', 'S10'), ('salary', 'f8'), ('age', 'i8')]"
      ]
     },
     "execution_count": 6,
     "metadata": {},
     "output_type": "execute_result"
    }
   ],
   "source": [
    "employee_info"
   ]
  },
  {
   "cell_type": "code",
   "execution_count": 7,
   "metadata": {},
   "outputs": [],
   "source": [
    "emplyees_staff = np.zeros((3), dtype = employee_info)"
   ]
  },
  {
   "cell_type": "code",
   "execution_count": 8,
   "metadata": {},
   "outputs": [
    {
     "data": {
      "text/plain": [
       "array([(b'', 0., 0), (b'', 0., 0), (b'', 0., 0)],\n",
       "      dtype=[('name', 'S10'), ('salary', '<f8'), ('age', '<i8')])"
      ]
     },
     "execution_count": 8,
     "metadata": {},
     "output_type": "execute_result"
    }
   ],
   "source": [
    "emplyees_staff"
   ]
  },
  {
   "cell_type": "code",
   "execution_count": 9,
   "metadata": {},
   "outputs": [],
   "source": [
    "emplyees_staff[2] = ('Muhammed' , 3000 , 36)"
   ]
  },
  {
   "cell_type": "code",
   "execution_count": 11,
   "metadata": {},
   "outputs": [],
   "source": [
    "emplyees_staff[1] = ('Ahmed' , 6000 , 26)"
   ]
  },
  {
   "cell_type": "code",
   "execution_count": 12,
   "metadata": {},
   "outputs": [
    {
     "data": {
      "text/plain": [
       "array([(b'',    0.,  0), (b'Ahmed', 6000., 26), (b'Muhammed', 3000., 36)],\n",
       "      dtype=[('name', 'S10'), ('salary', '<f8'), ('age', '<i8')])"
      ]
     },
     "execution_count": 12,
     "metadata": {},
     "output_type": "execute_result"
    }
   ],
   "source": [
    "emplyees_staff"
   ]
  },
  {
   "cell_type": "code",
   "execution_count": 13,
   "metadata": {},
   "outputs": [
    {
     "data": {
      "text/plain": [
       "array([(b'',    0.,  0), (b'Ahmed', 6000., 26), (b'Muhammed', 3000., 36)],\n",
       "      dtype=[('name', 'S10'), ('salary', '<f8'), ('age', '<i8')])"
      ]
     },
     "execution_count": 13,
     "metadata": {},
     "output_type": "execute_result"
    }
   ],
   "source": [
    "emplyees_staff[0:]"
   ]
  },
  {
   "cell_type": "code",
   "execution_count": 14,
   "metadata": {},
   "outputs": [
    {
     "data": {
      "text/plain": [
       "array([(b'Ahmed', 6000., 26), (b'Muhammed', 3000., 36)],\n",
       "      dtype=[('name', 'S10'), ('salary', '<f8'), ('age', '<i8')])"
      ]
     },
     "execution_count": 14,
     "metadata": {},
     "output_type": "execute_result"
    }
   ],
   "source": [
    "emplyees_staff[1:]"
   ]
  },
  {
   "cell_type": "code",
   "execution_count": 17,
   "metadata": {},
   "outputs": [],
   "source": [
    "salary = emplyees_staff['salary']"
   ]
  },
  {
   "cell_type": "code",
   "execution_count": 21,
   "metadata": {},
   "outputs": [],
   "source": [
    "age = emplyees_staff['age']"
   ]
  },
  {
   "cell_type": "code",
   "execution_count": 18,
   "metadata": {},
   "outputs": [],
   "source": [
    "add_salary = salary +2000"
   ]
  },
  {
   "cell_type": "code",
   "execution_count": 19,
   "metadata": {},
   "outputs": [
    {
     "data": {
      "text/plain": [
       "array([2000., 8000., 5000.])"
      ]
     },
     "execution_count": 19,
     "metadata": {},
     "output_type": "execute_result"
    }
   ],
   "source": [
    "add_salary"
   ]
  },
  {
   "cell_type": "code",
   "execution_count": 22,
   "metadata": {},
   "outputs": [],
   "source": [
    "add_age = age + 3"
   ]
  },
  {
   "cell_type": "code",
   "execution_count": 23,
   "metadata": {},
   "outputs": [
    {
     "data": {
      "text/plain": [
       "array([ 3, 29, 39])"
      ]
     },
     "execution_count": 23,
     "metadata": {},
     "output_type": "execute_result"
    }
   ],
   "source": [
    "add_age"
   ]
  },
  {
   "cell_type": "code",
   "execution_count": 24,
   "metadata": {},
   "outputs": [
    {
     "data": {
      "text/plain": [
       "array([(b'',    0.,  0), (b'Ahmed', 6000., 26), (b'Muhammed', 3000., 36)],\n",
       "      dtype=[('name', 'S10'), ('salary', '<f8'), ('age', '<i8')])"
      ]
     },
     "execution_count": 24,
     "metadata": {},
     "output_type": "execute_result"
    }
   ],
   "source": [
    "emplyees_staff"
   ]
  },
  {
   "cell_type": "code",
   "execution_count": 25,
   "metadata": {},
   "outputs": [],
   "source": [
    "all_employees =  np.zeros((4,3,2), dtype = employee_info)"
   ]
  },
  {
   "cell_type": "code",
   "execution_count": 26,
   "metadata": {},
   "outputs": [
    {
     "data": {
      "text/plain": [
       "array([[[(b'', 0., 0), (b'', 0., 0)],\n",
       "        [(b'', 0., 0), (b'', 0., 0)],\n",
       "        [(b'', 0., 0), (b'', 0., 0)]],\n",
       "\n",
       "       [[(b'', 0., 0), (b'', 0., 0)],\n",
       "        [(b'', 0., 0), (b'', 0., 0)],\n",
       "        [(b'', 0., 0), (b'', 0., 0)]],\n",
       "\n",
       "       [[(b'', 0., 0), (b'', 0., 0)],\n",
       "        [(b'', 0., 0), (b'', 0., 0)],\n",
       "        [(b'', 0., 0), (b'', 0., 0)]],\n",
       "\n",
       "       [[(b'', 0., 0), (b'', 0., 0)],\n",
       "        [(b'', 0., 0), (b'', 0., 0)],\n",
       "        [(b'', 0., 0), (b'', 0., 0)]]],\n",
       "      dtype=[('name', 'S10'), ('salary', '<f8'), ('age', '<i8')])"
      ]
     },
     "execution_count": 26,
     "metadata": {},
     "output_type": "execute_result"
    }
   ],
   "source": [
    "all_employees"
   ]
  },
  {
   "cell_type": "code",
   "execution_count": 27,
   "metadata": {},
   "outputs": [
    {
     "data": {
      "text/plain": [
       "array([[[b'', b''],\n",
       "        [b'', b''],\n",
       "        [b'', b'']],\n",
       "\n",
       "       [[b'', b''],\n",
       "        [b'', b''],\n",
       "        [b'', b'']],\n",
       "\n",
       "       [[b'', b''],\n",
       "        [b'', b''],\n",
       "        [b'', b'']],\n",
       "\n",
       "       [[b'', b''],\n",
       "        [b'', b''],\n",
       "        [b'', b'']]], dtype='|S10')"
      ]
     },
     "execution_count": 27,
     "metadata": {},
     "output_type": "execute_result"
    }
   ],
   "source": [
    "all_employees['name']"
   ]
  },
  {
   "cell_type": "code",
   "execution_count": 28,
   "metadata": {},
   "outputs": [
    {
     "data": {
      "text/plain": [
       "array([[[0, 0],\n",
       "        [0, 0],\n",
       "        [0, 0]],\n",
       "\n",
       "       [[0, 0],\n",
       "        [0, 0],\n",
       "        [0, 0]],\n",
       "\n",
       "       [[0, 0],\n",
       "        [0, 0],\n",
       "        [0, 0]],\n",
       "\n",
       "       [[0, 0],\n",
       "        [0, 0],\n",
       "        [0, 0]]])"
      ]
     },
     "execution_count": 28,
     "metadata": {},
     "output_type": "execute_result"
    }
   ],
   "source": [
    "all_employees['age']"
   ]
  },
  {
   "cell_type": "code",
   "execution_count": 29,
   "metadata": {},
   "outputs": [
    {
     "data": {
      "text/plain": [
       "array([[[0., 0.],\n",
       "        [0., 0.],\n",
       "        [0., 0.]],\n",
       "\n",
       "       [[0., 0.],\n",
       "        [0., 0.],\n",
       "        [0., 0.]],\n",
       "\n",
       "       [[0., 0.],\n",
       "        [0., 0.],\n",
       "        [0., 0.]],\n",
       "\n",
       "       [[0., 0.],\n",
       "        [0., 0.],\n",
       "        [0., 0.]]])"
      ]
     },
     "execution_count": 29,
     "metadata": {},
     "output_type": "execute_result"
    }
   ],
   "source": [
    "all_employees['salary']"
   ]
  },
  {
   "cell_type": "code",
   "execution_count": 30,
   "metadata": {},
   "outputs": [
    {
     "data": {
      "text/plain": [
       "array([[[(b'', 0., 0), (b'', 0., 0)],\n",
       "        [(b'', 0., 0), (b'', 0., 0)],\n",
       "        [(b'', 0., 0), (b'', 0., 0)]],\n",
       "\n",
       "       [[(b'', 0., 0), (b'', 0., 0)],\n",
       "        [(b'', 0., 0), (b'', 0., 0)],\n",
       "        [(b'', 0., 0), (b'', 0., 0)]],\n",
       "\n",
       "       [[(b'', 0., 0), (b'', 0., 0)],\n",
       "        [(b'', 0., 0), (b'', 0., 0)],\n",
       "        [(b'', 0., 0), (b'', 0., 0)]],\n",
       "\n",
       "       [[(b'', 0., 0), (b'', 0., 0)],\n",
       "        [(b'', 0., 0), (b'', 0., 0)],\n",
       "        [(b'', 0., 0), (b'', 0., 0)]]],\n",
       "      dtype=[('name', 'S10'), ('salary', '<f8'), ('age', '<i8')])"
      ]
     },
     "execution_count": 30,
     "metadata": {},
     "output_type": "execute_result"
    }
   ],
   "source": [
    "all_employees"
   ]
  },
  {
   "cell_type": "code",
   "execution_count": 38,
   "metadata": {},
   "outputs": [],
   "source": [
    "all_employees[0,0,1] = ('Muhammed' , 3000 , 36)"
   ]
  },
  {
   "cell_type": "code",
   "execution_count": 39,
   "metadata": {},
   "outputs": [
    {
     "data": {
      "text/plain": [
       "array([[[(b'',    0.,  0), (b'Muhammed', 3000., 36)],\n",
       "        [(b'',    0.,  0), (b'',    0.,  0)],\n",
       "        [(b'',    0.,  0), (b'',    0.,  0)]],\n",
       "\n",
       "       [[(b'',    0.,  0), (b'',    0.,  0)],\n",
       "        [(b'',    0.,  0), (b'',    0.,  0)],\n",
       "        [(b'',    0.,  0), (b'',    0.,  0)]],\n",
       "\n",
       "       [[(b'',    0.,  0), (b'',    0.,  0)],\n",
       "        [(b'',    0.,  0), (b'',    0.,  0)],\n",
       "        [(b'',    0.,  0), (b'',    0.,  0)]],\n",
       "\n",
       "       [[(b'',    0.,  0), (b'',    0.,  0)],\n",
       "        [(b'',    0.,  0), (b'',    0.,  0)],\n",
       "        [(b'',    0.,  0), (b'',    0.,  0)]]],\n",
       "      dtype=[('name', 'S10'), ('salary', '<f8'), ('age', '<i8')])"
      ]
     },
     "execution_count": 39,
     "metadata": {},
     "output_type": "execute_result"
    }
   ],
   "source": [
    "all_employees"
   ]
  },
  {
   "cell_type": "code",
   "execution_count": 40,
   "metadata": {},
   "outputs": [],
   "source": [
    "all_employees[1,1,0] = ('Essa' , 4000 , 22)"
   ]
  },
  {
   "cell_type": "code",
   "execution_count": 41,
   "metadata": {},
   "outputs": [
    {
     "data": {
      "text/plain": [
       "array([[[(b'',    0.,  0), (b'Muhammed', 3000., 36)],\n",
       "        [(b'',    0.,  0), (b'',    0.,  0)],\n",
       "        [(b'',    0.,  0), (b'',    0.,  0)]],\n",
       "\n",
       "       [[(b'',    0.,  0), (b'',    0.,  0)],\n",
       "        [(b'Essa', 4000., 22), (b'',    0.,  0)],\n",
       "        [(b'',    0.,  0), (b'',    0.,  0)]],\n",
       "\n",
       "       [[(b'',    0.,  0), (b'',    0.,  0)],\n",
       "        [(b'',    0.,  0), (b'',    0.,  0)],\n",
       "        [(b'',    0.,  0), (b'',    0.,  0)]],\n",
       "\n",
       "       [[(b'',    0.,  0), (b'',    0.,  0)],\n",
       "        [(b'',    0.,  0), (b'',    0.,  0)],\n",
       "        [(b'',    0.,  0), (b'',    0.,  0)]]],\n",
       "      dtype=[('name', 'S10'), ('salary', '<f8'), ('age', '<i8')])"
      ]
     },
     "execution_count": 41,
     "metadata": {},
     "output_type": "execute_result"
    }
   ],
   "source": [
    "all_employees"
   ]
  },
  {
   "cell_type": "code",
   "execution_count": 42,
   "metadata": {},
   "outputs": [],
   "source": [
    "all_employees[2,2,1] = ('Ahmed' , 7000 , 30)"
   ]
  },
  {
   "cell_type": "code",
   "execution_count": 43,
   "metadata": {},
   "outputs": [
    {
     "data": {
      "text/plain": [
       "array([[[(b'',    0.,  0), (b'Muhammed', 3000., 36)],\n",
       "        [(b'',    0.,  0), (b'',    0.,  0)],\n",
       "        [(b'',    0.,  0), (b'',    0.,  0)]],\n",
       "\n",
       "       [[(b'',    0.,  0), (b'',    0.,  0)],\n",
       "        [(b'Essa', 4000., 22), (b'',    0.,  0)],\n",
       "        [(b'',    0.,  0), (b'',    0.,  0)]],\n",
       "\n",
       "       [[(b'',    0.,  0), (b'',    0.,  0)],\n",
       "        [(b'',    0.,  0), (b'',    0.,  0)],\n",
       "        [(b'',    0.,  0), (b'Ahmed', 7000., 30)]],\n",
       "\n",
       "       [[(b'',    0.,  0), (b'',    0.,  0)],\n",
       "        [(b'',    0.,  0), (b'',    0.,  0)],\n",
       "        [(b'',    0.,  0), (b'',    0.,  0)]]],\n",
       "      dtype=[('name', 'S10'), ('salary', '<f8'), ('age', '<i8')])"
      ]
     },
     "execution_count": 43,
     "metadata": {},
     "output_type": "execute_result"
    }
   ],
   "source": [
    "all_employees"
   ]
  },
  {
   "cell_type": "code",
   "execution_count": 44,
   "metadata": {},
   "outputs": [],
   "source": [
    "all_employees[3,2,0] = ('Osama' , 12000 , 39)"
   ]
  },
  {
   "cell_type": "code",
   "execution_count": 45,
   "metadata": {},
   "outputs": [
    {
     "data": {
      "text/plain": [
       "array([[[(b'',     0.,  0), (b'Muhammed',  3000., 36)],\n",
       "        [(b'',     0.,  0), (b'',     0.,  0)],\n",
       "        [(b'',     0.,  0), (b'',     0.,  0)]],\n",
       "\n",
       "       [[(b'',     0.,  0), (b'',     0.,  0)],\n",
       "        [(b'Essa',  4000., 22), (b'',     0.,  0)],\n",
       "        [(b'',     0.,  0), (b'',     0.,  0)]],\n",
       "\n",
       "       [[(b'',     0.,  0), (b'',     0.,  0)],\n",
       "        [(b'',     0.,  0), (b'',     0.,  0)],\n",
       "        [(b'',     0.,  0), (b'Ahmed',  7000., 30)]],\n",
       "\n",
       "       [[(b'',     0.,  0), (b'',     0.,  0)],\n",
       "        [(b'',     0.,  0), (b'',     0.,  0)],\n",
       "        [(b'Osama', 12000., 39), (b'',     0.,  0)]]],\n",
       "      dtype=[('name', 'S10'), ('salary', '<f8'), ('age', '<i8')])"
      ]
     },
     "execution_count": 45,
     "metadata": {},
     "output_type": "execute_result"
    }
   ],
   "source": [
    "all_employees"
   ]
  },
  {
   "cell_type": "code",
   "execution_count": 46,
   "metadata": {},
   "outputs": [
    {
     "data": {
      "text/plain": [
       "array([[[b'', b'Muhammed'],\n",
       "        [b'', b''],\n",
       "        [b'', b'']],\n",
       "\n",
       "       [[b'', b''],\n",
       "        [b'Essa', b''],\n",
       "        [b'', b'']],\n",
       "\n",
       "       [[b'', b''],\n",
       "        [b'', b''],\n",
       "        [b'', b'Ahmed']],\n",
       "\n",
       "       [[b'', b''],\n",
       "        [b'', b''],\n",
       "        [b'Osama', b'']]], dtype='|S10')"
      ]
     },
     "execution_count": 46,
     "metadata": {},
     "output_type": "execute_result"
    }
   ],
   "source": [
    "all_employees['name']"
   ]
  },
  {
   "cell_type": "code",
   "execution_count": 47,
   "metadata": {},
   "outputs": [
    {
     "data": {
      "text/plain": [
       "array([[[    0.,  3000.],\n",
       "        [    0.,     0.],\n",
       "        [    0.,     0.]],\n",
       "\n",
       "       [[    0.,     0.],\n",
       "        [ 4000.,     0.],\n",
       "        [    0.,     0.]],\n",
       "\n",
       "       [[    0.,     0.],\n",
       "        [    0.,     0.],\n",
       "        [    0.,  7000.]],\n",
       "\n",
       "       [[    0.,     0.],\n",
       "        [    0.,     0.],\n",
       "        [12000.,     0.]]])"
      ]
     },
     "execution_count": 47,
     "metadata": {},
     "output_type": "execute_result"
    }
   ],
   "source": [
    "all_employees['salary']"
   ]
  },
  {
   "cell_type": "code",
   "execution_count": 48,
   "metadata": {},
   "outputs": [
    {
     "data": {
      "text/plain": [
       "array([[[ 0, 36],\n",
       "        [ 0,  0],\n",
       "        [ 0,  0]],\n",
       "\n",
       "       [[ 0,  0],\n",
       "        [22,  0],\n",
       "        [ 0,  0]],\n",
       "\n",
       "       [[ 0,  0],\n",
       "        [ 0,  0],\n",
       "        [ 0, 30]],\n",
       "\n",
       "       [[ 0,  0],\n",
       "        [ 0,  0],\n",
       "        [39,  0]]])"
      ]
     },
     "execution_count": 48,
     "metadata": {},
     "output_type": "execute_result"
    }
   ],
   "source": [
    "all_employees['age']"
   ]
  },
  {
   "cell_type": "code",
   "execution_count": 50,
   "metadata": {},
   "outputs": [
    {
     "data": {
      "text/plain": [
       "array([[[(b'',  0), (b'Muhammed', 36)],\n",
       "        [(b'',  0), (b'',  0)],\n",
       "        [(b'',  0), (b'',  0)]],\n",
       "\n",
       "       [[(b'',  0), (b'',  0)],\n",
       "        [(b'Essa', 22), (b'',  0)],\n",
       "        [(b'',  0), (b'',  0)]],\n",
       "\n",
       "       [[(b'',  0), (b'',  0)],\n",
       "        [(b'',  0), (b'',  0)],\n",
       "        [(b'',  0), (b'Ahmed', 30)]],\n",
       "\n",
       "       [[(b'',  0), (b'',  0)],\n",
       "        [(b'',  0), (b'',  0)],\n",
       "        [(b'Osama', 39), (b'',  0)]]],\n",
       "      dtype={'names':['name','age'], 'formats':['S10','<i8'], 'offsets':[0,18], 'itemsize':26})"
      ]
     },
     "execution_count": 50,
     "metadata": {},
     "output_type": "execute_result"
    }
   ],
   "source": [
    "all_employees[ ['name','age']]"
   ]
  },
  {
   "cell_type": "code",
   "execution_count": 51,
   "metadata": {},
   "outputs": [
    {
     "data": {
      "text/plain": [
       "array([[[(b'',     0.), (b'Muhammed',  3000.)],\n",
       "        [(b'',     0.), (b'',     0.)],\n",
       "        [(b'',     0.), (b'',     0.)]],\n",
       "\n",
       "       [[(b'',     0.), (b'',     0.)],\n",
       "        [(b'Essa',  4000.), (b'',     0.)],\n",
       "        [(b'',     0.), (b'',     0.)]],\n",
       "\n",
       "       [[(b'',     0.), (b'',     0.)],\n",
       "        [(b'',     0.), (b'',     0.)],\n",
       "        [(b'',     0.), (b'Ahmed',  7000.)]],\n",
       "\n",
       "       [[(b'',     0.), (b'',     0.)],\n",
       "        [(b'',     0.), (b'',     0.)],\n",
       "        [(b'Osama', 12000.), (b'',     0.)]]],\n",
       "      dtype={'names':['name','salary'], 'formats':['S10','<f8'], 'offsets':[0,10], 'itemsize':26})"
      ]
     },
     "execution_count": 51,
     "metadata": {},
     "output_type": "execute_result"
    }
   ],
   "source": [
    "all_employees[ ['name','salary']]"
   ]
  },
  {
   "cell_type": "code",
   "execution_count": null,
   "metadata": {},
   "outputs": [],
   "source": []
  }
 ],
 "metadata": {
  "kernelspec": {
   "display_name": "Python 3",
   "language": "python",
   "name": "python3"
  },
  "language_info": {
   "codemirror_mode": {
    "name": "ipython",
    "version": 3
   },
   "file_extension": ".py",
   "mimetype": "text/x-python",
   "name": "python",
   "nbconvert_exporter": "python",
   "pygments_lexer": "ipython3",
   "version": "3.7.4"
  }
 },
 "nbformat": 4,
 "nbformat_minor": 2
}
